{
 "cells": [
  {
   "cell_type": "code",
   "execution_count": 81,
   "id": "3775908f-ca36-4846-8f38-5adca39217f2",
   "metadata": {
    "codeCollapsed": false,
    "collapsed": false,
    "language": "python",
    "name": "IMPORTS"
   },
   "outputs": [],
   "source": [
    "import sys\n",
    "import os  \n",
    "from datetime import datetime, timedelta, date\n",
    "import datetime as dt\n",
    "\n",
    "import requests\n",
    "import pandas as pd\n",
    "import json\n",
    "import yaml\n",
    "import importlib\n",
    "\n",
    "\n",
    "from snowflake.snowpark.functions import date_trunc, current_date, to_date, month\n",
    "from snowflake.snowpark.functions import col, lit, when\n",
    "from snowflake.snowpark.types import DateType\n",
    "import snowflake.snowpark.functions as f\n",
    "\n",
    "\n",
    "sys.path.append(os.path.abspath('scripts'))\n",
    "\n",
    "try:\n",
    "    from snowflake.snowpark.context import get_active_session\n",
    "    session = get_active_session()\n",
    "except Exception:\n",
    "    import SnowflakeConnector  # brings module into scope\n",
    "    importlib.reload(SnowflakeConnector)\n",
    "    from SnowflakeConnector import create_active_session\n",
    "    session = create_active_session()\n",
    "\n",
    "\n",
    "import utils\n",
    "importlib.reload(utils)\n",
    "from utils import get_orders_for_date, backfill_date_generator, get_min_date_from_table, get_max_date_from_table\n",
    "\n",
    "\n",
    "\n"
   ]
  },
  {
   "cell_type": "code",
   "execution_count": 67,
   "id": "18ecc51b",
   "metadata": {},
   "outputs": [],
   "source": [
    "#Access Token\n",
    "TOKEN_PATH = \"config/shopify_auth.yaml\"\n",
    "QUERY_PATH = \"graphql/queries/get_transactions.graphql\"\n",
    "SELLINGPLAN_TABLE = \"snowpark_db.shopify.orders_with_selling_plan\"\n",
    "DATE_COLUMN = \"PROCESSED_AT\"\n",
    "\n",
    "\n",
    "with open(TOKEN_PATH, \"r\") as file:\n",
    "    config = yaml.safe_load(file)\n",
    "ACCESS_TOKEN = config.get(\"ACCESS_TOKEN\", {})\n",
    "\n",
    "\n",
    "with open(QUERY_PATH, \"r\") as file:\n",
    "    QUERY_STRING = file.read()\n",
    "\n",
    "\n",
    "SHOP_ENDPOINT = \"https://shopmbg.myshopify.com/admin/api/2024-04/graphql.json\""
   ]
  },
  {
   "cell_type": "code",
   "execution_count": 75,
   "id": "d7b13f63",
   "metadata": {},
   "outputs": [
    {
     "name": "stdout",
     "output_type": "stream",
     "text": [
      "------------------------------------\n",
      "|\"PROCESSED_DATE\"  |\"ORDER_COUNT\"  |\n",
      "------------------------------------\n",
      "|2025-06-16        |931            |\n",
      "|2025-06-15        |917            |\n",
      "|2025-06-14        |891            |\n",
      "|2025-06-13        |912            |\n",
      "|2025-06-12        |904            |\n",
      "|2025-06-11        |992            |\n",
      "|2025-06-10        |863            |\n",
      "|2025-06-09        |976            |\n",
      "|2025-06-08        |975            |\n",
      "|2025-06-07        |991            |\n",
      "------------------------------------\n",
      "\n"
     ]
    }
   ],
   "source": [
    "##See  SELLINGPLAN_TABLE daily summary\n",
    "\n",
    "SELLINGPLAN = session.table(SELLINGPLAN_TABLE)\\\n",
    "    .select(to_date(col(DATE_COLUMN)).alias(\"PROCESSED_DATE\"), \n",
    "            col(\"ORDER_ID\"), \n",
    "            col(\"ORDER_NAME\"), \n",
    "            col(\"LINEITEM_ID\"), \n",
    "            col(\"TAGS\"), \n",
    "            col(\"LOAD_TIMESTAMP\")).group_by(col(\"PROCESSED_DATE\"))\\\n",
    "    .agg(f.count(col(\"ORDER_ID\")).alias(\"ORDER_COUNT\")).sort(col(\"PROCESSED_DATE\").desc())\n",
    "\n",
    "SELLINGPLAN.show()"
   ]
  },
  {
   "cell_type": "code",
   "execution_count": 79,
   "id": "71501afd",
   "metadata": {},
   "outputs": [
    {
     "name": "stdout",
     "output_type": "stream",
     "text": [
      "-------------------------------------\n",
      "|\"PROCESSED_MONTH\"  |\"ORDER_COUNT\"  |\n",
      "-------------------------------------\n",
      "|6                  |15279          |\n",
      "|5                  |31957          |\n",
      "|4                  |30776          |\n",
      "|3                  |29500          |\n",
      "|2                  |27982          |\n",
      "|1                  |30008          |\n",
      "-------------------------------------\n",
      "\n"
     ]
    }
   ],
   "source": [
    "##See  SELLINGPLAN_TABLE monthly summary\n",
    "SELLINGPLAN = session.table(SELLINGPLAN_TABLE)\\\n",
    "    .select(month(to_date(col(DATE_COLUMN))).alias(\"PROCESSED_MONTH\"), \n",
    "            col(\"ORDER_ID\"), \n",
    "            col(\"ORDER_NAME\"), \n",
    "            col(\"LINEITEM_ID\"), \n",
    "            col(\"TAGS\"), \n",
    "            col(\"LOAD_TIMESTAMP\")).group_by(col(\"PROCESSED_MONTH\"))\\\n",
    "    .agg(f.count(col(\"ORDER_ID\")).alias(\"ORDER_COUNT\")).sort(col(\"PROCESSED_MONTH\").desc())\n",
    "\n",
    "SELLINGPLAN.show()"
   ]
  },
  {
   "cell_type": "code",
   "execution_count": null,
   "id": "617d2350",
   "metadata": {},
   "outputs": [],
   "source": [
    "\n",
    "orders = get_orders_for_date(\"2025-06-11\", ACCESS_TOKEN, SHOP_ENDPOINT, QUERY_STRING)\n",
    "\n",
    "\n"
   ]
  },
  {
   "cell_type": "code",
   "execution_count": 51,
   "id": "fbe41e3b-b4a5-4bf0-878c-814d1416a292",
   "metadata": {
    "codeCollapsed": false,
    "collapsed": false,
    "language": "python",
    "name": "DATE_GENERATOR_FUNC"
   },
   "outputs": [
    {
     "name": "stdout",
     "output_type": "stream",
     "text": [
      "2025-06-19\n",
      "2025-06-18\n",
      "2025-06-17\n",
      "2025-06-16\n",
      "2025-06-15\n",
      "Reached stop date: 2025-06-15. Generator exhausted.\n"
     ]
    },
    {
     "ename": "StopIteration",
     "evalue": "",
     "output_type": "error",
     "traceback": [
      "\u001b[0;31m---------------------------------------------------------------------------\u001b[0m",
      "\u001b[0;31mStopIteration\u001b[0m                             Traceback (most recent call last)",
      "Cell \u001b[0;32mIn[51], line 5\u001b[0m\n\u001b[1;32m      3\u001b[0m get_date \u001b[38;5;241m=\u001b[39m backfill_date_generator(start_date\u001b[38;5;241m=\u001b[39mdate(\u001b[38;5;241m2025\u001b[39m, \u001b[38;5;241m6\u001b[39m, \u001b[38;5;241m20\u001b[39m), stop_date\u001b[38;5;241m=\u001b[39mdate(\u001b[38;5;241m2025\u001b[39m, \u001b[38;5;241m6\u001b[39m, \u001b[38;5;241m15\u001b[39m))\n\u001b[1;32m      4\u001b[0m \u001b[38;5;28;01mfor\u001b[39;00m _ \u001b[38;5;129;01min\u001b[39;00m \u001b[38;5;28mrange\u001b[39m(\u001b[38;5;241m10\u001b[39m):\n\u001b[0;32m----> 5\u001b[0m     \u001b[38;5;28mprint\u001b[39m(\u001b[38;5;28;43mnext\u001b[39;49m\u001b[43m(\u001b[49m\u001b[43mget_date\u001b[49m\u001b[43m)\u001b[49m)\n",
      "\u001b[0;31mStopIteration\u001b[0m: "
     ]
    }
   ],
   "source": [
    "#Function usage example\n",
    "\n",
    "get_date = backfill_date_generator(start_date=date(2025, 6, 20), stop_date=date(2025, 6, 15))\n",
    "for _ in range(10):\n",
    "    print(next(get_date))"
   ]
  },
  {
   "cell_type": "code",
   "execution_count": null,
   "id": "a0bd4e02",
   "metadata": {},
   "outputs": [],
   "source": [
    "#maxdate in SELLINGPLAN_TABLE\n",
    "\n",
    "max_date_in_table = get_max_date_from_table(SELLINGPLAN_TABLE, DATE_COLUMN, session)\n",
    "max_date_in_table.strftime(\"%Y-%m-%d\")"
   ]
  },
  {
   "cell_type": "code",
   "execution_count": null,
   "id": "45c000bb-8978-46e1-b19c-313afe82ba91",
   "metadata": {
    "codeCollapsed": false,
    "collapsed": false,
    "language": "python",
    "name": "cell1"
   },
   "outputs": [],
   "source": [
    "\n",
    "date = '2025-06-16'\n",
    "all_orders = get_orders_for_date(date)\n",
    "now = datetime.utcnow()\n",
    "paginated_df = pd.DataFrame([\n",
    "        {\n",
    "            \"PROCESSED_AT\" :o['node']['processedAt'] ,\n",
    "            \"ORDER_ID\": o['node']['id'].split('/')[-1],\n",
    "            \"ORDER_NAME\": o['node']['name'].split('#')[-1],\n",
    "            \"LINEITEM_ID\":json.dumps(o['node']['lineItems']),\n",
    "            \"TAGS\":json.dumps(o['node']['tags']),\n",
    "            \"LOAD_TIMESTAMP\": now\n",
    "        }\n",
    "        for o in all_orders\n",
    "    ])\n",
    "\n",
    "end = datetime.strptime(date, \"%Y-%m-%d\") + timedelta(days=1)\n",
    "end = end.strftime('%Y-%m-%dT00:00:00Z')\n",
    "paginated_df = paginated_df[paginated_df[\"PROCESSED_AT\"]<end]\n",
    "\n",
    "\n",
    "print(f\"end = {end}\")\n",
    "\n",
    "\n",
    "\n",
    "\n",
    "paginated_df.tail(10)\n",
    "\n",
    "#1769"
   ]
  },
  {
   "cell_type": "code",
   "execution_count": null,
   "id": "3158477f-bab0-4ab8-8865-4a10b6461943",
   "metadata": {
    "language": "python",
    "name": "BULK_EXTRACTION"
   },
   "outputs": [],
   "source": [
    "#final extraction \n",
    "#date_list = date_generator(stop_date=date(2025, 1, 1))\n",
    "\n",
    "\n",
    "date_list = [\"2025-06-17\", \"2025-06-18\"]\n",
    "\n",
    "for next_date in date_list:\n",
    "    all_orders = get_orders_for_date(next_date)\n",
    "    now = datetime.utcnow()\n",
    "    paginated_df = pd.DataFrame([\n",
    "        {\n",
    "            \"PROCESSED_AT\" :o['node']['processedAt'] ,\n",
    "            \"ORDER_ID\": o['node']['id'].split('/')[-1],\n",
    "            \"ORDER_NAME\": o['node']['name'].split('#')[-1],\n",
    "            \"LINEITEM_ID\":json.dumps(o['node']['lineItems']),\n",
    "            \"TAGS\":json.dumps(o['node']['tags']),\n",
    "            \"LOAD_TIMESTAMP\": now\n",
    "        }\n",
    "        for o in all_orders\n",
    "    ])\n",
    "\n",
    "    #\n",
    "    end = datetime.strptime(date, \"%Y-%m-%d\") + timedelta(days=1)\n",
    "    end = end.strftime('%Y-%m-%dT00:00:00Z')\n",
    "    paginated_df = paginated_df[paginated_df[\"PROCESSED_AT\"]<end]\n",
    "    \n",
    "\n",
    "    records = paginated_df.to_dict(orient=\"records\")\n",
    "    transactions = session.create_dataframe(records)\n",
    "    transactions.write.save_as_table(\"snowpark_db.shopify.orders_with_selling_plan\", mode=\"append\")\n",
    " \n",
    "\n",
    "    print(f\"Updated transactions for {next_date}\")"
   ]
  }
 ],
 "metadata": {
  "kernelspec": {
   "display_name": "Python 3",
   "language": "python",
   "name": "python3"
  },
  "language_info": {
   "codemirror_mode": {
    "name": "ipython",
    "version": 3
   },
   "file_extension": ".py",
   "mimetype": "text/x-python",
   "name": "python",
   "nbconvert_exporter": "python",
   "pygments_lexer": "ipython3",
   "version": "3.9.6"
  },
  "lastEditStatus": {
   "authorEmail": "isuru@mindbodygreen.com",
   "authorId": "2782291963430",
   "authorName": "IMAHAKUMARA",
   "lastEditTime": 1750263706244,
   "notebookId": "v6pu3zyn2hbmiblmoltp",
   "sessionId": "7a8e8ad7-e87d-41f6-80eb-fe1471394928"
  }
 },
 "nbformat": 4,
 "nbformat_minor": 5
}
