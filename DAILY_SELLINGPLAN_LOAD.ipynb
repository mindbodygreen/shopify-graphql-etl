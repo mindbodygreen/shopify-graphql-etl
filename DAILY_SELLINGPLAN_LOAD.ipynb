{
  "cells": [
    {
      "cell_type": "code",
      "execution_count": 6,
      "metadata": {},
      "outputs": [],
      "source": [
        "import sys\n",
        "import os  \n",
        "from datetime import datetime, timedelta, date\n",
        "import datetime as dt\n",
        "\n",
        "import requests\n",
        "import pandas as pd\n",
        "import json\n",
        "import yaml\n",
        "import importlib\n",
        "\n",
        "\n",
        "from snowflake.snowpark.functions import date_trunc, current_date, to_date, month\n",
        "from snowflake.snowpark.functions import col, lit, when\n",
        "from snowflake.snowpark.types import DateType\n",
        "import snowflake.snowpark.functions as f\n",
        "\n",
        "\n",
        "sys.path.append(os.path.abspath('scripts'))\n",
        "\n",
        "try:\n",
        "    from snowflake.snowpark.context import get_active_session\n",
        "    session = get_active_session()\n",
        "except Exception:\n",
        "    import SnowflakeConnector  # brings module into scope\n",
        "    importlib.reload(SnowflakeConnector)\n",
        "    from SnowflakeConnector import create_active_session\n",
        "    session = create_active_session()\n",
        "\n",
        "\n",
        "import utils\n",
        "importlib.reload(utils)\n",
        "from utils import get_orders_for_date, get_max_date_from_table\n"
      ]
    },
    {
      "cell_type": "code",
      "execution_count": 3,
      "metadata": {},
      "outputs": [],
      "source": [
        "#Access Token\n",
        "TOKEN_PATH = \"config/shopify_auth.yaml\"\n",
        "QUERY_PATH = \"graphql/queries/get_transactions.graphql\"\n",
        "SELLINGPLAN_TABLE = \"snowpark_db.shopify.orders_with_selling_plan\"\n",
        "DATE_COLUMN = \"PROCESSED_AT\"\n",
        "\n",
        "\n",
        "with open(TOKEN_PATH, \"r\") as file:\n",
        "    config = yaml.safe_load(file)\n",
        "ACCESS_TOKEN = config.get(\"ACCESS_TOKEN\", {})\n",
        "\n",
        "\n",
        "with open(QUERY_PATH, \"r\") as file:\n",
        "    QUERY_STRING = file.read()\n",
        "\n",
        "\n",
        "SHOP_ENDPOINT = \"https://shopmbg.myshopify.com/admin/api/2024-04/graphql.json\"\n"
      ]
    },
    {
      "cell_type": "code",
      "execution_count": null,
      "metadata": {},
      "outputs": [],
      "source": [
        "# ##See  SELLINGPLAN_TABLE daily summary\n",
        "\n",
        "# SELLINGPLAN = session.table(SELLINGPLAN_TABLE)\\\n",
        "#     .select(to_date(col(DATE_COLUMN)).alias(\"PROCESSED_DATE\"), \n",
        "#             col(\"ORDER_ID\"), \n",
        "#             col(\"ORDER_NAME\"), \n",
        "#             col(\"LINEITEM_ID\"), \n",
        "#             col(\"TAGS\"), \n",
        "#             col(\"LOAD_TIMESTAMP\")).group_by(col(\"PROCESSED_DATE\"))\\\n",
        "#     .agg(f.count(col(\"ORDER_ID\")).alias(\"ORDER_COUNT\")).sort(col(\"PROCESSED_DATE\").desc())\n",
        "\n",
        "# SELLINGPLAN.show()\n"
      ]
    },
    {
      "cell_type": "code",
      "execution_count": null,
      "metadata": {},
      "outputs": [],
      "source": [
        "##See  SELLINGPLAN_TABLE monthly summary\n",
        "# SELLINGPLAN = session.table(SELLINGPLAN_TABLE)\\\n",
        "#     .select(month(to_date(col(DATE_COLUMN))).alias(\"PROCESSED_MONTH\"), \n",
        "#             col(\"ORDER_ID\"), \n",
        "#             col(\"ORDER_NAME\"), \n",
        "#             col(\"LINEITEM_ID\"), \n",
        "#             col(\"TAGS\"), \n",
        "#             col(\"LOAD_TIMESTAMP\")).group_by(col(\"PROCESSED_MONTH\"))\\\n",
        "#     .agg(f.count(col(\"ORDER_ID\")).alias(\"ORDER_COUNT\")).sort(col(\"PROCESSED_MONTH\").desc())\n",
        "\n",
        "# SELLINGPLAN.show()\n"
      ]
    },
    {
      "cell_type": "code",
      "execution_count": null,
      "metadata": {},
      "outputs": [],
      "source": [
        "orders = get_orders_for_date(\"2025-06-11\", ACCESS_TOKEN, SHOP_ENDPOINT, QUERY_STRING)\n"
      ]
    },
    {
      "cell_type": "code",
      "execution_count": 11,
      "metadata": {},
      "outputs": [
        {
          "data": {
            "text/plain": [
              "'2025-06-16'"
            ]
          },
          "execution_count": 11,
          "metadata": {},
          "output_type": "execute_result"
        }
      ],
      "source": [
        "#maxdate in SELLINGPLAN_TABLE\n",
        "\n",
        "max_date_in_table = get_max_date_from_table(SELLINGPLAN_TABLE, DATE_COLUMN, session)\n",
        "max_date_in_table.strftime(\"%Y-%m-%d\")"
      ]
    },
    {
      "cell_type": "code",
      "execution_count": 12,
      "metadata": {},
      "outputs": [
        {
          "name": "stdout",
          "output_type": "stream",
          "text": [
            "Fetched 1006 orders for 2025-06-17\n"
          ]
        },
        {
          "ename": "KeyError",
          "evalue": "'processedAt'",
          "output_type": "error",
          "traceback": [
            "\u001b[0;31m---------------------------------------------------------------------------\u001b[0m",
            "\u001b[0;31mKeyError\u001b[0m                                  Traceback (most recent call last)",
            "Cell \u001b[0;32mIn[12], line 7\u001b[0m\n\u001b[1;32m      5\u001b[0m all_orders \u001b[38;5;241m=\u001b[39m get_orders_for_date(load_date, ACCESS_TOKEN, SHOP_ENDPOINT, QUERY_STRING)\n\u001b[1;32m      6\u001b[0m now \u001b[38;5;241m=\u001b[39m datetime\u001b[38;5;241m.\u001b[39mutcnow()\n\u001b[0;32m----> 7\u001b[0m paginated_df \u001b[38;5;241m=\u001b[39m pd\u001b[38;5;241m.\u001b[39mDataFrame([\n\u001b[1;32m      8\u001b[0m         {\n\u001b[1;32m      9\u001b[0m             \u001b[38;5;124m\"\u001b[39m\u001b[38;5;124mPROCESSED_AT\u001b[39m\u001b[38;5;124m\"\u001b[39m :o[\u001b[38;5;124m'\u001b[39m\u001b[38;5;124mnode\u001b[39m\u001b[38;5;124m'\u001b[39m][\u001b[38;5;124m'\u001b[39m\u001b[38;5;124mprocessedAt\u001b[39m\u001b[38;5;124m'\u001b[39m] ,\n\u001b[1;32m     10\u001b[0m             \u001b[38;5;124m\"\u001b[39m\u001b[38;5;124mORDER_ID\u001b[39m\u001b[38;5;124m\"\u001b[39m: o[\u001b[38;5;124m'\u001b[39m\u001b[38;5;124mnode\u001b[39m\u001b[38;5;124m'\u001b[39m][\u001b[38;5;124m'\u001b[39m\u001b[38;5;124mid\u001b[39m\u001b[38;5;124m'\u001b[39m]\u001b[38;5;241m.\u001b[39msplit(\u001b[38;5;124m'\u001b[39m\u001b[38;5;124m/\u001b[39m\u001b[38;5;124m'\u001b[39m)[\u001b[38;5;241m-\u001b[39m\u001b[38;5;241m1\u001b[39m],\n\u001b[1;32m     11\u001b[0m             \u001b[38;5;124m\"\u001b[39m\u001b[38;5;124mORDER_NAME\u001b[39m\u001b[38;5;124m\"\u001b[39m: o[\u001b[38;5;124m'\u001b[39m\u001b[38;5;124mnode\u001b[39m\u001b[38;5;124m'\u001b[39m][\u001b[38;5;124m'\u001b[39m\u001b[38;5;124mname\u001b[39m\u001b[38;5;124m'\u001b[39m]\u001b[38;5;241m.\u001b[39msplit(\u001b[38;5;124m'\u001b[39m\u001b[38;5;124m#\u001b[39m\u001b[38;5;124m'\u001b[39m)[\u001b[38;5;241m-\u001b[39m\u001b[38;5;241m1\u001b[39m],\n\u001b[1;32m     12\u001b[0m             \u001b[38;5;124m\"\u001b[39m\u001b[38;5;124mLINEITEM_ID\u001b[39m\u001b[38;5;124m\"\u001b[39m:json\u001b[38;5;241m.\u001b[39mdumps(o[\u001b[38;5;124m'\u001b[39m\u001b[38;5;124mnode\u001b[39m\u001b[38;5;124m'\u001b[39m][\u001b[38;5;124m'\u001b[39m\u001b[38;5;124mlineItems\u001b[39m\u001b[38;5;124m'\u001b[39m]),\n\u001b[1;32m     13\u001b[0m             \u001b[38;5;124m\"\u001b[39m\u001b[38;5;124mTAGS\u001b[39m\u001b[38;5;124m\"\u001b[39m:json\u001b[38;5;241m.\u001b[39mdumps(o[\u001b[38;5;124m'\u001b[39m\u001b[38;5;124mnode\u001b[39m\u001b[38;5;124m'\u001b[39m][\u001b[38;5;124m'\u001b[39m\u001b[38;5;124mtags\u001b[39m\u001b[38;5;124m'\u001b[39m]),\n\u001b[1;32m     14\u001b[0m             \u001b[38;5;124m\"\u001b[39m\u001b[38;5;124mLOAD_TIMESTAMP\u001b[39m\u001b[38;5;124m\"\u001b[39m: now\n\u001b[1;32m     15\u001b[0m         }\n\u001b[1;32m     16\u001b[0m         \u001b[38;5;28;01mfor\u001b[39;00m o \u001b[38;5;129;01min\u001b[39;00m all_orders\n\u001b[1;32m     17\u001b[0m     ])\n\u001b[1;32m     19\u001b[0m end \u001b[38;5;241m=\u001b[39m datetime\u001b[38;5;241m.\u001b[39mstrptime(date, \u001b[38;5;124m\"\u001b[39m\u001b[38;5;124m%\u001b[39m\u001b[38;5;124mY-\u001b[39m\u001b[38;5;124m%\u001b[39m\u001b[38;5;124mm-\u001b[39m\u001b[38;5;132;01m%d\u001b[39;00m\u001b[38;5;124m\"\u001b[39m) \u001b[38;5;241m+\u001b[39m timedelta(days\u001b[38;5;241m=\u001b[39m\u001b[38;5;241m1\u001b[39m)\n\u001b[1;32m     20\u001b[0m end \u001b[38;5;241m=\u001b[39m end\u001b[38;5;241m.\u001b[39mstrftime(\u001b[38;5;124m'\u001b[39m\u001b[38;5;124m%\u001b[39m\u001b[38;5;124mY-\u001b[39m\u001b[38;5;124m%\u001b[39m\u001b[38;5;124mm-\u001b[39m\u001b[38;5;132;01m%d\u001b[39;00m\u001b[38;5;124mT00:00:00Z\u001b[39m\u001b[38;5;124m'\u001b[39m)\n",
            "Cell \u001b[0;32mIn[12], line 9\u001b[0m, in \u001b[0;36m<listcomp>\u001b[0;34m(.0)\u001b[0m\n\u001b[1;32m      5\u001b[0m all_orders \u001b[38;5;241m=\u001b[39m get_orders_for_date(load_date, ACCESS_TOKEN, SHOP_ENDPOINT, QUERY_STRING)\n\u001b[1;32m      6\u001b[0m now \u001b[38;5;241m=\u001b[39m datetime\u001b[38;5;241m.\u001b[39mutcnow()\n\u001b[1;32m      7\u001b[0m paginated_df \u001b[38;5;241m=\u001b[39m pd\u001b[38;5;241m.\u001b[39mDataFrame([\n\u001b[1;32m      8\u001b[0m         {\n\u001b[0;32m----> 9\u001b[0m             \u001b[38;5;124m\"\u001b[39m\u001b[38;5;124mPROCESSED_AT\u001b[39m\u001b[38;5;124m\"\u001b[39m :\u001b[43mo\u001b[49m\u001b[43m[\u001b[49m\u001b[38;5;124;43m'\u001b[39;49m\u001b[38;5;124;43mnode\u001b[39;49m\u001b[38;5;124;43m'\u001b[39;49m\u001b[43m]\u001b[49m\u001b[43m[\u001b[49m\u001b[38;5;124;43m'\u001b[39;49m\u001b[38;5;124;43mprocessedAt\u001b[39;49m\u001b[38;5;124;43m'\u001b[39;49m\u001b[43m]\u001b[49m ,\n\u001b[1;32m     10\u001b[0m             \u001b[38;5;124m\"\u001b[39m\u001b[38;5;124mORDER_ID\u001b[39m\u001b[38;5;124m\"\u001b[39m: o[\u001b[38;5;124m'\u001b[39m\u001b[38;5;124mnode\u001b[39m\u001b[38;5;124m'\u001b[39m][\u001b[38;5;124m'\u001b[39m\u001b[38;5;124mid\u001b[39m\u001b[38;5;124m'\u001b[39m]\u001b[38;5;241m.\u001b[39msplit(\u001b[38;5;124m'\u001b[39m\u001b[38;5;124m/\u001b[39m\u001b[38;5;124m'\u001b[39m)[\u001b[38;5;241m-\u001b[39m\u001b[38;5;241m1\u001b[39m],\n\u001b[1;32m     11\u001b[0m             \u001b[38;5;124m\"\u001b[39m\u001b[38;5;124mORDER_NAME\u001b[39m\u001b[38;5;124m\"\u001b[39m: o[\u001b[38;5;124m'\u001b[39m\u001b[38;5;124mnode\u001b[39m\u001b[38;5;124m'\u001b[39m][\u001b[38;5;124m'\u001b[39m\u001b[38;5;124mname\u001b[39m\u001b[38;5;124m'\u001b[39m]\u001b[38;5;241m.\u001b[39msplit(\u001b[38;5;124m'\u001b[39m\u001b[38;5;124m#\u001b[39m\u001b[38;5;124m'\u001b[39m)[\u001b[38;5;241m-\u001b[39m\u001b[38;5;241m1\u001b[39m],\n\u001b[1;32m     12\u001b[0m             \u001b[38;5;124m\"\u001b[39m\u001b[38;5;124mLINEITEM_ID\u001b[39m\u001b[38;5;124m\"\u001b[39m:json\u001b[38;5;241m.\u001b[39mdumps(o[\u001b[38;5;124m'\u001b[39m\u001b[38;5;124mnode\u001b[39m\u001b[38;5;124m'\u001b[39m][\u001b[38;5;124m'\u001b[39m\u001b[38;5;124mlineItems\u001b[39m\u001b[38;5;124m'\u001b[39m]),\n\u001b[1;32m     13\u001b[0m             \u001b[38;5;124m\"\u001b[39m\u001b[38;5;124mTAGS\u001b[39m\u001b[38;5;124m\"\u001b[39m:json\u001b[38;5;241m.\u001b[39mdumps(o[\u001b[38;5;124m'\u001b[39m\u001b[38;5;124mnode\u001b[39m\u001b[38;5;124m'\u001b[39m][\u001b[38;5;124m'\u001b[39m\u001b[38;5;124mtags\u001b[39m\u001b[38;5;124m'\u001b[39m]),\n\u001b[1;32m     14\u001b[0m             \u001b[38;5;124m\"\u001b[39m\u001b[38;5;124mLOAD_TIMESTAMP\u001b[39m\u001b[38;5;124m\"\u001b[39m: now\n\u001b[1;32m     15\u001b[0m         }\n\u001b[1;32m     16\u001b[0m         \u001b[38;5;28;01mfor\u001b[39;00m o \u001b[38;5;129;01min\u001b[39;00m all_orders\n\u001b[1;32m     17\u001b[0m     ])\n\u001b[1;32m     19\u001b[0m end \u001b[38;5;241m=\u001b[39m datetime\u001b[38;5;241m.\u001b[39mstrptime(date, \u001b[38;5;124m\"\u001b[39m\u001b[38;5;124m%\u001b[39m\u001b[38;5;124mY-\u001b[39m\u001b[38;5;124m%\u001b[39m\u001b[38;5;124mm-\u001b[39m\u001b[38;5;132;01m%d\u001b[39;00m\u001b[38;5;124m\"\u001b[39m) \u001b[38;5;241m+\u001b[39m timedelta(days\u001b[38;5;241m=\u001b[39m\u001b[38;5;241m1\u001b[39m)\n\u001b[1;32m     20\u001b[0m end \u001b[38;5;241m=\u001b[39m end\u001b[38;5;241m.\u001b[39mstrftime(\u001b[38;5;124m'\u001b[39m\u001b[38;5;124m%\u001b[39m\u001b[38;5;124mY-\u001b[39m\u001b[38;5;124m%\u001b[39m\u001b[38;5;124mm-\u001b[39m\u001b[38;5;132;01m%d\u001b[39;00m\u001b[38;5;124mT00:00:00Z\u001b[39m\u001b[38;5;124m'\u001b[39m)\n",
            "\u001b[0;31mKeyError\u001b[0m: 'processedAt'"
          ]
        }
      ],
      "source": [
        "\n",
        "load_date = max_date_in_table + timedelta(days=1)\n",
        "load_date = load_date.strftime(\"%Y-%m-%d\")\n",
        "\n",
        "\n",
        "all_orders = get_orders_for_date(load_date, ACCESS_TOKEN, SHOP_ENDPOINT, QUERY_STRING)\n",
        "now = datetime.utcnow()\n",
        "paginated_df = pd.DataFrame([\n",
        "        {\n",
        "            \"PROCESSED_AT\" :o['node']['processedAt'] ,\n",
        "            \"ORDER_ID\": o['node']['id'].split('/')[-1],\n",
        "            \"ORDER_NAME\": o['node']['name'].split('#')[-1],\n",
        "            \"LINEITEM_ID\":json.dumps(o['node']['lineItems']),\n",
        "            \"TAGS\":json.dumps(o['node']['tags']),\n",
        "            \"LOAD_TIMESTAMP\": now\n",
        "        }\n",
        "        for o in all_orders\n",
        "    ])\n",
        "\n",
        "end = datetime.strptime(date, \"%Y-%m-%d\") + timedelta(days=1)\n",
        "end = end.strftime('%Y-%m-%dT00:00:00Z')\n",
        "paginated_df = paginated_df[paginated_df[\"PROCESSED_AT\"]<end]\n",
        "\n",
        "\n",
        "print(f\"end = {end}\")\n",
        "\n",
        "\n",
        "paginated_df.tail(10)\n",
        "\n",
        "#1769\n"
      ]
    },
    {
      "cell_type": "code",
      "execution_count": null,
      "metadata": {},
      "outputs": [],
      "source": [
        "#final extraction  (DAILY)\n",
        "#date_list = date_generator(stop_date=date(2025, 1, 1))\n",
        "\n",
        "\n",
        "all_orders = get_orders_for_date(next_date)\n",
        "now = datetime.utcnow()\n",
        "paginated_df = pd.DataFrame([\n",
        "    {\n",
        "        \"PROCESSED_AT\" :o['node']['processedAt'] ,\n",
        "        \"ORDER_ID\": o['node']['id'].split('/')[-1],\n",
        "        \"ORDER_NAME\": o['node']['name'].split('#')[-1],\n",
        "        \"LINEITEM_ID\":json.dumps(o['node']['lineItems']),\n",
        "        \"TAGS\":json.dumps(o['node']['tags']),\n",
        "        \"LOAD_TIMESTAMP\": now\n",
        "    }\n",
        "    for o in all_orders\n",
        "])\n",
        "\n",
        "#\n",
        "end = datetime.strptime(date, \"%Y-%m-%d\") + timedelta(days=1)\n",
        "end = end.strftime('%Y-%m-%dT00:00:00Z')\n",
        "paginated_df = paginated_df[paginated_df[\"PROCESSED_AT\"]<end]\n",
        "\n",
        "\n",
        "records = paginated_df.to_dict(orient=\"records\")\n",
        "transactions = session.create_dataframe(records)\n",
        "transactions.write.save_as_table(\"snowpark_db.shopify.orders_with_selling_plan\", mode=\"append\")\n",
        "\n",
        "\n",
        "print(f\"Updated transactions for {next_date}\")\n"
      ]
    }
  ],
  "metadata": {
    "kernelspec": {
      "display_name": "Python 3",
      "language": "python",
      "name": "python3"
    },
    "language_info": {
      "codemirror_mode": {
        "name": "ipython",
        "version": 3
      },
      "file_extension": ".py",
      "mimetype": "text/x-python",
      "name": "python",
      "nbconvert_exporter": "python",
      "pygments_lexer": "ipython3",
      "version": "3.9.6"
    }
  },
  "nbformat": 4,
  "nbformat_minor": 2
}
