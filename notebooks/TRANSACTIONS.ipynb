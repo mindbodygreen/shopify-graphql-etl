{
 "cells": [
  {
   "cell_type": "code",
   "execution_count": 1,
   "id": "3775908f-ca36-4846-8f38-5adca39217f2",
   "metadata": {
    "language": "python",
    "name": "IMPORTS"
   },
   "outputs": [
    {
     "name": "stderr",
     "output_type": "stream",
     "text": [
      "/Users/oceansxyz/Library/Python/3.9/lib/python/site-packages/snowflake/snowpark/session.py:38: UserWarning: pkg_resources is deprecated as an API. See https://setuptools.pypa.io/en/latest/pkg_resources.html. The pkg_resources package is slated for removal as early as 2025-11-30. Refrain from using this package or pin to Setuptools<81.\n",
      "  import pkg_resources\n"
     ]
    }
   ],
   "source": [
    "# Import python packages\n",
    "import sys\n",
    "import os   \n",
    "import requests\n",
    "import pandas as pd\n",
    "import json\n",
    "import yaml\n",
    "from datetime import datetime, timedelta\n",
    "import datetime as dt\n",
    "\n",
    "from snowflake.snowpark.functions import date_trunc, current_date\n",
    "from snowflake.snowpark.functions import col, lit, when\n",
    "from snowflake.snowpark.types import DateType\n",
    "import snowflake.snowpark.functions as f\n",
    "\n",
    "\n",
    "sys.path.append(os.path.abspath('../scripts'))\n",
    "try:\n",
    "    from snowflake.snowpark.context import get_active_session\n",
    "    session = get_active_session()\n",
    "except Exception:\n",
    "    from SnowflakeConnector import create_active_session\n",
    "    session = create_active_session()\n",
    "\n"
   ]
  },
  {
   "cell_type": "code",
   "execution_count": 3,
   "id": "c714c82e",
   "metadata": {},
   "outputs": [
    {
     "name": "stdout",
     "output_type": "stream",
     "text": [
      "-----------------------------------------------------------------------------------------------------------------------------------\n",
      "|\"PROCESSED_AT\"  |\"ORDER_ID\"     |\"ORDER_NAME\"  |\"OrderTransaction\"                                  |\"LOAD_TIMESTAMP\"            |\n",
      "-----------------------------------------------------------------------------------------------------------------------------------\n",
      "|2025-04-29      |6585541001321  |815006        |[{\"id\": \"gid://shopify/OrderTransaction/8289039...  |2025-06-16 14:13:56.764112  |\n",
      "|2025-04-29      |6585544409193  |815007        |[{\"id\": \"gid://shopify/OrderTransaction/8346810...  |2025-06-16 14:13:56.764112  |\n",
      "|2025-04-29      |6585547096169  |815008        |[{\"id\": \"gid://shopify/OrderTransaction/8346813...  |2025-06-16 14:13:56.764112  |\n",
      "|2025-04-29      |6585554763881  |815009        |[{\"id\": \"gid://shopify/OrderTransaction/8346823...  |2025-06-16 14:13:56.764112  |\n",
      "|2025-04-29      |6585560924265  |815010        |[{\"id\": \"gid://shopify/OrderTransaction/8346831...  |2025-06-16 14:13:56.764112  |\n",
      "|2025-04-29      |6585560957033  |815011        |[{\"id\": \"gid://shopify/OrderTransaction/8346831...  |2025-06-16 14:13:56.764112  |\n",
      "|2025-04-29      |6585563807849  |815012        |[{\"id\": \"gid://shopify/OrderTransaction/8346835...  |2025-06-16 14:13:56.764112  |\n",
      "|2025-04-29      |6585565446249  |815013        |[{\"id\": \"gid://shopify/OrderTransaction/8346837...  |2025-06-16 14:13:56.764112  |\n",
      "|2025-04-29      |6585566888041  |815014        |[{\"id\": \"gid://shopify/OrderTransaction/8346839...  |2025-06-16 14:13:56.764112  |\n",
      "|2025-04-29      |6585569280105  |815015        |[{\"id\": \"gid://shopify/OrderTransaction/8346842...  |2025-06-16 14:13:56.764112  |\n",
      "-----------------------------------------------------------------------------------------------------------------------------------\n",
      "\n"
     ]
    }
   ],
   "source": [
    "table = session.table(\"snowpark_db.shopify.transactions\").show()"
   ]
  },
  {
   "cell_type": "code",
   "execution_count": 85,
   "id": "b2e61d39",
   "metadata": {},
   "outputs": [
    {
     "data": {
      "text/plain": [
       "'   query ($cursor: String, $date: String!) {\\n      orders(first: 250, query: $date, after: $cursor) {\\n        edges {\\n          cursor\\n          node {\\n            id\\n            name\\n            transactions {\\n              id\\n              kind\\n              status\\n              gateway\\n              amountSet {\\n                presentmentMoney {\\n                  amount\\n                  currencyCode\\n                }\\n              }\\n              paymentDetails {\\n                ... on CardPaymentDetails {\\n                  number\\n                }\\n              }\\n            }\\n          }\\n        }\\n        pageInfo {\\n          hasNextPage\\n          endCursor\\n        }\\n      }\\n    }'"
      ]
     },
     "execution_count": 85,
     "metadata": {},
     "output_type": "execute_result"
    }
   ],
   "source": [
    "#Access Token\n",
    "TOKEN_PATH = \"../config/shopify_auth.yaml\"\n",
    "QUERY_PATH = \"../graphql/queries/get_transactions.graphql\"\n",
    "\n",
    "\n",
    "\n",
    "with open(TOKEN_PATH, \"r\") as file:\n",
    "    config = yaml.safe_load(file)\n",
    "ACCESS_TOKEN = config.get(\"ACCESS_TOKEN\", {})\n",
    "\n",
    "\n",
    "with open(QUERY_PATH, \"r\") as f:\n",
    "    QUERY_STRING = f.read()\n",
    "\n",
    "\n",
    "URL = \"https://shopmbg.myshopify.com/admin/api/2024-04/graphql.json\"\n"
   ]
  },
  {
   "cell_type": "code",
   "execution_count": 82,
   "id": "4a16edea",
   "metadata": {},
   "outputs": [],
   "source": [
    "get_transactions = \"\"\"\n",
    "    query ($cursor: String, $date: String!) {\n",
    "      orders(first: 250, query: $date, after: $cursor) {\n",
    "        edges {\n",
    "          cursor\n",
    "          node {\n",
    "            id\n",
    "            name\n",
    "            transactions {\n",
    "              id\n",
    "              kind\n",
    "              status\n",
    "              gateway\n",
    "              amountSet {\n",
    "                presentmentMoney {\n",
    "                  amount\n",
    "                  currencyCode\n",
    "                }\n",
    "              }\n",
    "              paymentDetails {\n",
    "                ... on CardPaymentDetails {\n",
    "                  number\n",
    "                }\n",
    "              }\n",
    "            }\n",
    "          }\n",
    "        }\n",
    "        pageInfo {\n",
    "          hasNextPage\n",
    "          endCursor\n",
    "        }\n",
    "      }\n",
    "    }\n",
    "    \"\"\""
   ]
  },
  {
   "cell_type": "code",
   "execution_count": null,
   "id": "5f1b698b-810f-40ba-ac88-1bdcbeb55b85",
   "metadata": {
    "language": "python",
    "name": "Paginated_Request"
   },
   "outputs": [],
   "source": [
    "\n",
    "def get_orders_for_date(date):\n",
    "    query = get_transactions\n",
    "\n",
    "    headers = {\n",
    "        \"Content-Type\": \"application/json\",\n",
    "        \"X-Shopify-Access-Token\": ACCESS_TOKEN\n",
    "    }\n",
    "\n",
    "    all_orders = []\n",
    "    cursor = None\n",
    "\n",
    "    # Prepare the query string for the \"processed_at\" filter properly\n",
    "    # Shopify expects a query string like \"processed_at:=2025-06-11\"\n",
    "    query_string = f\"processed_at:={date}\"\n",
    "\n",
    "    while True:\n",
    "        variables = {\"cursor\": cursor, \"date\": query_string}\n",
    "        response = requests.post(URL, json={\"query\": query, \"variables\": variables}, headers=headers)\n",
    "        \n",
    "        if response.status_code != 200:\n",
    "            print(\"Request failed:\", response.text)\n",
    "            break\n",
    "        \n",
    "        result = response.json()\n",
    "\n",
    "        if \"data\" not in result or \"orders\" not in result[\"data\"]:\n",
    "            print(\"Unexpected response structure:\", result)\n",
    "            break\n",
    "\n",
    "        orders_data = result[\"data\"][\"orders\"]\n",
    "        edges = orders_data[\"edges\"]\n",
    "\n",
    "        for edge in edges:\n",
    "            all_orders.append(edge[\"node\"])\n",
    "\n",
    "        page_info = orders_data[\"pageInfo\"]\n",
    "        if not page_info[\"hasNextPage\"]:\n",
    "            break\n",
    "\n",
    "        cursor = page_info[\"endCursor\"]\n",
    "\n",
    "    print(f\"Fetched {len(all_orders)} orders for {date}\")\n",
    "    return all_orders\n",
    "\n",
    "\n",
    "# Example usage:\n",
    "all_orders = get_orders_for_date(date)\n"
   ]
  },
  {
   "cell_type": "code",
   "execution_count": null,
   "id": "b58746b1-d3ec-44d5-83ba-64d15b319919",
   "metadata": {
    "language": "python",
    "name": "cell11"
   },
   "outputs": [],
   "source": [
    "all_orders[90]"
   ]
  },
  {
   "cell_type": "code",
   "execution_count": null,
   "id": "a3e36cbd-edd0-4c0a-b083-0a76d579f4f1",
   "metadata": {
    "language": "python",
    "name": "cell10"
   },
   "outputs": [],
   "source": [
    "\n",
    "now = datetime.utcnow()\n",
    "paginated_df = pd.DataFrame([\n",
    "    {\n",
    "        \"PROCESSED_AT\" :date ,\n",
    "        \"ORDER_ID\": o['id'].split('/')[-1],\n",
    "        \"ORDER_NAME\": o['name'].split('#')[-1],\n",
    "        \"OrderTransaction\":json.dumps(o['transactions']),\n",
    "        \"LOAD_TIMESTAMP\": now\n",
    "    }\n",
    "    for o in all_orders\n",
    "])\n",
    "\n",
    "\n",
    "\n",
    "paginated_df.head()"
   ]
  },
  {
   "cell_type": "code",
   "execution_count": null,
   "id": "07f654f3-1a5a-44a5-8790-64caa0408116",
   "metadata": {
    "language": "python",
    "name": "Date_List"
   },
   "outputs": [],
   "source": [
    "\n",
    "\n",
    "date_list =  [\"2025-04-07\", \"2025-04-08\", \"2025-04-09\", \"2025-04-10\", \"2025-04-11\", \"2025-04-12\", \"2025-04-13\", \"2025-04-14\", \"2025-04-15\", \"2025-04-16\", \"2025-04-17\", \"2025-04-18\", \"2025-04-19\", \"2025-04-20\", \"2025-04-21\", \"2025-04-22\", \"2025-04-23\", \"2025-04-24\", \"2025-04-25\", \"2025-04-26\", \"2025-04-27\", \"2025-04-28\", \"2025-04-29\", \"2025-04-30\"\n",
    "]\n",
    "\n",
    "\n",
    "date_list_test = [\"2025-04-01\", \"2025-04-02\", \"2025-04-03\", \"2025-04-04\", \"2025-04-05\", \"2025-04-06\"]\n"
   ]
  },
  {
   "cell_type": "code",
   "execution_count": null,
   "id": "44ded956-160c-4ad3-a3b1-27488170effc",
   "metadata": {
    "language": "python",
    "name": "cell9"
   },
   "outputs": [],
   "source": [
    "\n",
    "for date in date_list:\n",
    "\n",
    "    all_orders = get_orders_for_date(date)\n",
    "\n",
    "    now = datetime.utcnow()\n",
    "    paginated_df = pd.DataFrame([\n",
    "        {\n",
    "            \"PROCESSED_AT\" :date ,\n",
    "            \"ORDER_ID\": o['id'].split('/')[-1],\n",
    "            \"ORDER_NAME\": o['name'].split('#')[-1],\n",
    "            \"OrderTransaction\":json.dumps(o['transactions']),\n",
    "            \"LOAD_TIMESTAMP\": now\n",
    "        }\n",
    "        for o in all_orders\n",
    "    ])\n",
    "    \n",
    "    transactions = session.create_dataframe(paginated_df)\n",
    "    transactions.write.save_as_table(\"snowpark_db.shopify.transactions\", mode=\"append\")\n",
    "    print(f\"Updated transactions for {date}\")\n",
    "    \n"
   ]
  },
  {
   "cell_type": "code",
   "execution_count": null,
   "id": "76026cbc-b25e-4b75-ad18-3031d17391ca",
   "metadata": {
    "language": "python",
    "name": "cell6"
   },
   "outputs": [],
   "source": [
    "\n",
    "transactions = session.create_dataframe(pdf)\n",
    "transactions.write.save_as_table(\"snowpark.shopify.transactions\", mode=\"append\")"
   ]
  },
  {
   "cell_type": "code",
   "execution_count": null,
   "id": "dd8d62cd-bb74-408a-8958-102e710c2a48",
   "metadata": {
    "codeCollapsed": false,
    "language": "python",
    "name": "cell8"
   },
   "outputs": [],
   "source": [
    "all_orders[922]"
   ]
  },
  {
   "cell_type": "code",
   "execution_count": null,
   "id": "127f738e-2693-4b50-ae90-9f03df62e0c0",
   "metadata": {
    "language": "python",
    "name": "cell7"
   },
   "outputs": [],
   "source": [
    "all_orders[900]"
   ]
  },
  {
   "cell_type": "code",
   "execution_count": null,
   "id": "73851027-5f45-435a-b2ea-280f820a4ab5",
   "metadata": {
    "language": "python",
    "name": "Request"
   },
   "outputs": [],
   "source": [
    "\n",
    "# GraphQL query to get order ID and credit card number\n",
    "query = \"\"\"\n",
    "query {\n",
    "  orders(first: 250, query: \"processed_at:=2025-06-11\") {\n",
    "    edges {\n",
    "      node {\n",
    "        id\n",
    "        name\n",
    "        transactions {\n",
    "          id\n",
    "          kind\n",
    "          status\n",
    "          gateway\n",
    "          paymentDetails {\n",
    "            ... on CardPaymentDetails {\n",
    "              number\n",
    "            }\n",
    "          }\n",
    "        }\n",
    "      }\n",
    "    }\n",
    "  }\n",
    "}\n",
    "\"\"\"\n",
    "# Headers including your private access token\n",
    "headers = {\n",
    "    \"Content-Type\": \"application/json\",\n",
    "    \"X-Shopify-Access-Token\": ACCESS_TOKEN\n",
    "}\n",
    "# Send the request\n",
    "response = requests.post(url, json={\"query\": query}, headers=headers)\n",
    "# Parse response\n",
    "if response.status_code == 200:\n",
    "    data = response.json()\n",
    "    print(data)\n",
    "   "
   ]
  },
  {
   "cell_type": "code",
   "execution_count": null,
   "id": "065b6aae-85a6-4677-a61c-4ddf08b7d27f",
   "metadata": {
    "language": "python",
    "name": "trasactions_panda"
   },
   "outputs": [],
   "source": [
    "trasactions_df = pd.DataFrame([\n",
    "    {\n",
    "        \"ORDER_ID\": o['node']['id'].split('/')[-1],\n",
    "        \"ORDER_NAME\": o['node']['name'].split('#')[-1],\n",
    "        \"OrderTransaction\":json.dumps(o['node']['transactions'])\n",
    "    }\n",
    "    for o in data['data']['orders']['edges']\n",
    "])"
   ]
  },
  {
   "cell_type": "code",
   "execution_count": null,
   "id": "0ac4714c-a47a-4590-812a-2c6304fb730e",
   "metadata": {
    "language": "python",
    "name": "cell5"
   },
   "outputs": [],
   "source": [
    "trasactions_df.head()"
   ]
  },
  {
   "cell_type": "code",
   "execution_count": null,
   "id": "c695373e-ac74-4b62-a1f1-08206cbd5c81",
   "metadata": {
    "language": "python",
    "name": "REQUEST"
   },
   "outputs": [],
   "source": [
    "\n",
    "\n",
    " # Replace with your real token\n",
    "\n",
    "url = f\"https://{SHOP}.myshopify.com/admin/api/2024-04/graphql.json\"\n",
    "headers = {\n",
    "    \"Content-Type\": \"application/json\",\n",
    "    \"X-Shopify-Access-Token\": ACCESS_TOKEN\n",
    "}\n",
    "payload = {\n",
    "    \"query\": \"\"\"\n",
    "        query {\n",
    "          currentBulkOperation {\n",
    "            id\n",
    "            status\n",
    "            objectCount\n",
    "            fileSize\n",
    "            url\n",
    "            partialDataUrl\n",
    "          }\n",
    "        }\n",
    "    \"\"\"\n",
    "}\n",
    "\n",
    "response = requests.post(url, json=payload, headers=headers)\n",
    "print(response.json())\n"
   ]
  },
  {
   "cell_type": "code",
   "execution_count": null,
   "id": "0b33d06a-f802-46ec-a9ee-6858bba462dc",
   "metadata": {
    "language": "python",
    "name": "RESPONSE"
   },
   "outputs": [],
   "source": [
    "response.json()"
   ]
  },
  {
   "cell_type": "code",
   "execution_count": null,
   "id": "96ba4f35-bdb0-4313-b422-caff8d619434",
   "metadata": {
    "language": "python",
    "name": "cell1"
   },
   "outputs": [],
   "source": [
    "bulk_file_url = response.json()['data']['currentBulkOperation']['url']\n",
    "fileSize = response.json()['data']['currentBulkOperation']['fileSize']\n",
    "file_size_mb = int(fileSize) / 1048576\n",
    "print(file_size_mb)"
   ]
  },
  {
   "cell_type": "code",
   "execution_count": null,
   "id": "50d36201-54d4-42f8-9031-ca177e4be607",
   "metadata": {
    "language": "python",
    "name": "cell2"
   },
   "outputs": [],
   "source": [
    "bulk_file_response = requests.get(bulk_file_url, stream=True)\n",
    "print(bulk_file_response.raise_for_status())"
   ]
  },
  {
   "cell_type": "code",
   "execution_count": null,
   "id": "5ce12379-60ab-4ec6-819c-6b3d0ba395e9",
   "metadata": {
    "language": "python",
    "name": "cell3"
   },
   "outputs": [],
   "source": [
    "output_file = \"bulk_results.jsonl\"\n",
    "with open(output_file, \"wb\") as f:\n",
    "    for chunk in bulk_file_response.iter_content(chunk_size=8192):\n",
    "        f.write(chunk)\n",
    "\n",
    "print(\"Download complete:\", output_file)"
   ]
  },
  {
   "cell_type": "code",
   "execution_count": null,
   "id": "7cd5930f-89f9-4118-a881-ca0f7f13bc00",
   "metadata": {
    "language": "python",
    "name": "cell4"
   },
   "outputs": [],
   "source": [
    "df = pd.read_json(\"bulk_results.jsonl\", lines=True)\n",
    "df.head()"
   ]
  }
 ],
 "metadata": {
  "kernelspec": {
   "display_name": "Python 3",
   "language": "python",
   "name": "python3"
  },
  "language_info": {
   "codemirror_mode": {
    "name": "ipython",
    "version": 3
   },
   "file_extension": ".py",
   "mimetype": "text/x-python",
   "name": "python",
   "nbconvert_exporter": "python",
   "pygments_lexer": "ipython3",
   "version": "3.9.6"
  },
  "lastEditStatus": {
   "authorEmail": "isuru@mindbodygreen.com",
   "authorId": "2782291963430",
   "authorName": "IMAHAKUMARA",
   "lastEditTime": 1750083027286,
   "notebookId": "ha4waqjbm3u5slsi6v4x",
   "sessionId": "5206cbf5-d600-4170-8271-007510aa0c91"
  }
 },
 "nbformat": 4,
 "nbformat_minor": 5
}
