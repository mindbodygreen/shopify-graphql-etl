{
  "cells": [
    {
      "cell_type": "code",
      "execution_count": 2,
      "metadata": {},
      "outputs": [],
      "source": [
        "import sys\n",
        "import os  \n",
        "from datetime import datetime, timedelta, date\n",
        "import datetime as dt\n",
        "\n",
        "import requests\n",
        "import pandas as pd\n",
        "import json\n",
        "import yaml\n",
        "import importlib\n",
        "\n",
        "\n",
        "from snowflake.snowpark.functions import date_trunc, current_date, to_date, month\n",
        "from snowflake.snowpark.functions import col, lit, when\n",
        "from snowflake.snowpark.types import DateType\n",
        "import snowflake.snowpark.functions as f\n",
        "\n",
        "\n",
        "sys.path.append(os.path.abspath('scripts'))\n",
        "\n",
        "try:\n",
        "    from snowflake.snowpark.context import get_active_session\n",
        "    session = get_active_session()\n",
        "except Exception:\n",
        "    import scripts.SnowflakeConnector  # brings module into scope\n",
        "    importlib.reload(scripts.SnowflakeConnector)\n",
        "    from scripts.SnowflakeConnector import create_active_session\n",
        "    session = create_active_session()\n",
        "\n",
        "\n",
        "import scripts.utils\n",
        "importlib.reload(scripts.utils)\n",
        "from scripts.utils import get_orders_for_date, get_max_date_from_table\n"
      ]
    },
    {
      "cell_type": "code",
      "execution_count": 3,
      "metadata": {},
      "outputs": [],
      "source": [
        "#Access Token\n",
        "TOKEN_PATH = \"config/shopify_auth.yaml\"\n",
        "QUERY_PATH = \"graphql/queries/get_sellingplan.graphql\"\n",
        "SELLINGPLAN_TABLE = \"snowpark_db.shopify.orders_with_selling_plan\"\n",
        "DATE_COLUMN = \"PROCESSED_AT\"\n",
        "\n",
        "\n",
        "with open(TOKEN_PATH, \"r\") as file:\n",
        "    config = yaml.safe_load(file)\n",
        "ACCESS_TOKEN = config.get(\"ACCESS_TOKEN\", {})\n",
        "\n",
        "\n",
        "with open(QUERY_PATH, \"r\") as file:\n",
        "    QUERY_STRING = file.read()\n",
        "\n",
        "\n",
        "SHOP_ENDPOINT = \"https://shopmbg.myshopify.com/admin/api/2024-04/graphql.json\"\n"
      ]
    },
    {
      "cell_type": "code",
      "execution_count": 5,
      "metadata": {},
      "outputs": [
        {
          "name": "stdout",
          "output_type": "stream",
          "text": [
            "2025-06-30\n"
          ]
        }
      ],
      "source": [
        "#maxdate in SELLINGPLAN_TABLE\n",
        "today = date.today()\n",
        "print(today)"
      ]
    },
    {
      "cell_type": "code",
      "execution_count": 7,
      "metadata": {},
      "outputs": [
        {
          "name": "stdout",
          "output_type": "stream",
          "text": [
            "Fetched 1188 orders for 2025-06-29\n"
          ]
        }
      ],
      "source": [
        "load_date = today - timedelta(days=1)\n",
        "load_date = load_date.strftime(\"%Y-%m-%d\")\n",
        "\n",
        "\n",
        "all_orders = get_orders_for_date(load_date, ACCESS_TOKEN, SHOP_ENDPOINT, QUERY_STRING)\n",
        "now = datetime.utcnow()\n",
        "paginated_df = pd.DataFrame([\n",
        "        {\n",
        "            \"PROCESSED_AT\" :o['node']['processedAt'] ,\n",
        "            \"ORDER_ID\": o['node']['id'].split('/')[-1],\n",
        "            \"ORDER_NAME\": o['node']['name'].split('#')[-1],\n",
        "            \"LINEITEM_ID\":json.dumps(o['node']['lineItems']),\n",
        "            \"TAGS\":json.dumps(o['node']['tags']),\n",
        "            \"LOAD_TIMESTAMP\": now\n",
        "        }\n",
        "        for o in all_orders\n",
        "    ])\n",
        "\n",
        "end_date = datetime.strptime(load_date, \"%Y-%m-%d\") + timedelta(days=1)\n",
        "end_date = end_date.strftime('%Y-%m-%dT00:00:00Z')\n",
        "paginated_df = paginated_df[paginated_df[\"PROCESSED_AT\"]<end_date]\n",
        "\n",
        "\n",
        "# paginated_snow_df = session.create_dataframe(paginated_df)\n",
        "# paginated_snow_df.write.save_as_table(SELLINGPLAN_TABLE, mode=\"append\")\n"
      ]
    }
  ],
  "metadata": {
    "kernelspec": {
      "display_name": "Python 3",
      "language": "python",
      "name": "python3"
    },
    "language_info": {
      "codemirror_mode": {
        "name": "ipython",
        "version": 3
      },
      "file_extension": ".py",
      "mimetype": "text/x-python",
      "name": "python",
      "nbconvert_exporter": "python",
      "pygments_lexer": "ipython3",
      "version": "3.9.6"
    }
  },
  "nbformat": 4,
  "nbformat_minor": 2
}
